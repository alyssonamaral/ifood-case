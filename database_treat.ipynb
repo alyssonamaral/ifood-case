{
 "cells": [
  {
   "cell_type": "code",
   "metadata": {
    "ExecuteTime": {
     "end_time": "2024-11-27T01:00:02.841466Z",
     "start_time": "2024-11-27T01:00:02.834983Z"
    }
   },
   "source": [
    "from pyspark.sql import SparkSession\n",
    "from pyspark.sql.functions import from_json, col, isnull, when, array_contains\n",
    "from pyspark.sql.types import StructType, StructField, StringType"
   ],
   "outputs": [],
   "execution_count": 9
  },
  {
   "cell_type": "code",
   "metadata": {
    "ExecuteTime": {
     "end_time": "2024-11-27T00:58:46.684775Z",
     "start_time": "2024-11-27T00:58:46.071869Z"
    }
   },
   "source": [
    "spark = SparkSession.builder \\\n",
    "    .appName(\"ifood-jsons\") \\\n",
    "    .getOrCreate()"
   ],
   "outputs": [],
   "execution_count": 8
  },
  {
   "cell_type": "code",
   "metadata": {
    "ExecuteTime": {
     "end_time": "2024-11-27T01:06:15.232044Z",
     "start_time": "2024-11-27T01:06:13.479381Z"
    }
   },
   "source": [
    "file_location = \"/Users/alyssonamaral/Documents/ifood-case/case_data/transactions.json\"\n",
    "file_type = \"json\"\n",
    "\n",
    "infer_schema = \"false\"\n",
    "first_row_is_header = \"false\"\n",
    "delimiter = \",\"\n",
    "\n",
    "df_transactions = spark.read.format(file_type) \\\n",
    "  .option(\"inferSchema\", infer_schema) \\\n",
    "  .option(\"header\", first_row_is_header) \\\n",
    "  .option(\"sep\", delimiter) \\\n",
    "  .load(file_location)\n",
    "\n",
    "df_transactions = df_transactions \\\n",
    "    .withColumn(\"amount\", col(\"value.amount\")) \\\n",
    "    .withColumn(\"offer_id_\", col(\"value.`offer id`\")) \\\n",
    "    .withColumn(\"offer_id\", col(\"value.offer_id\")) \\\n",
    "    .withColumn(\"reward\", col(\"value.reward\")) \\\n",
    "    .drop(\"value\")\n",
    "\n",
    "df_transactions.show(5)"
   ],
   "outputs": [
    {
     "name": "stderr",
     "output_type": "stream",
     "text": [
      "                                                                                \r"
     ]
    },
    {
     "name": "stdout",
     "output_type": "stream",
     "text": [
      "+--------------------+--------------+---------------------+------+--------------------+--------+------+\n",
      "|          account_id|         event|time_since_test_start|amount|           offer_id_|offer_id|reward|\n",
      "+--------------------+--------------+---------------------+------+--------------------+--------+------+\n",
      "|78afa995795e4d85b...|offer received|                  0.0|  NULL|9b98b8c7a33c4b65b...|    NULL|  NULL|\n",
      "|a03223e636434f42a...|offer received|                  0.0|  NULL|0b1e1539f2cc45b7b...|    NULL|  NULL|\n",
      "|e2127556f4f64592b...|offer received|                  0.0|  NULL|2906b810c7d441179...|    NULL|  NULL|\n",
      "|8ec6ce2a7e7949b1b...|offer received|                  0.0|  NULL|fafdcd668e3743c1b...|    NULL|  NULL|\n",
      "|68617ca6246f4fbc8...|offer received|                  0.0|  NULL|4d5c57ea9a6940dd8...|    NULL|  NULL|\n",
      "+--------------------+--------------+---------------------+------+--------------------+--------+------+\n",
      "only showing top 5 rows\n",
      "\n"
     ]
    }
   ],
   "execution_count": 18
  },
  {
   "metadata": {},
   "cell_type": "code",
   "outputs": [],
   "execution_count": null,
   "source": ""
  }
 ],
 "metadata": {
  "kernelspec": {
   "display_name": "venv",
   "language": "python",
   "name": "python3"
  },
  "language_info": {
   "codemirror_mode": {
    "name": "ipython",
    "version": 3
   },
   "file_extension": ".py",
   "mimetype": "text/x-python",
   "name": "python",
   "nbconvert_exporter": "python",
   "pygments_lexer": "ipython3",
   "version": "3.12.1"
  }
 },
 "nbformat": 4,
 "nbformat_minor": 2
}
