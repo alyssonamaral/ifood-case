{
 "cells": [
  {
   "cell_type": "code",
   "metadata": {
    "ExecuteTime": {
     "end_time": "2024-11-27T23:35:51.592189Z",
     "start_time": "2024-11-27T23:35:51.587297Z"
    }
   },
   "source": [
    "from calendar import mdays\n",
    "\n",
    "from pyspark.sql import SparkSession, Window\n",
    "from pyspark.sql.functions import from_json, col, isnull, when, array_contains, max, last\n",
    "from pyspark.sql.types import StructType, StructField, StringType\n"
   ],
   "outputs": [],
   "execution_count": 61
  },
  {
   "cell_type": "code",
   "metadata": {
    "ExecuteTime": {
     "end_time": "2024-11-27T22:45:08.727641Z",
     "start_time": "2024-11-27T22:45:08.086141Z"
    }
   },
   "source": [
    "spark = SparkSession.builder \\\n",
    "    .appName(\"ifood-jsons\") \\\n",
    "    .getOrCreate()"
   ],
   "outputs": [],
   "execution_count": 4
  },
  {
   "metadata": {
    "ExecuteTime": {
     "end_time": "2024-11-27T22:45:02.128006Z",
     "start_time": "2024-11-27T22:45:02.118426Z"
    }
   },
   "cell_type": "code",
   "source": "spark.sparkContext.setLogLevel(\"ERROR\")",
   "outputs": [],
   "execution_count": 3
  },
  {
   "metadata": {},
   "cell_type": "markdown",
   "source": "### Tratamento do transactions"
  },
  {
   "metadata": {},
   "cell_type": "code",
   "outputs": [],
   "execution_count": null,
   "source": ""
  },
  {
   "cell_type": "code",
   "metadata": {
    "ExecuteTime": {
     "end_time": "2024-11-27T23:30:10.324413Z",
     "start_time": "2024-11-27T23:30:08.451320Z"
    }
   },
   "source": [
    "file_location = \"/Users/alyssonamaral/Documents/ifood-case/case_data/transactions.json\"\n",
    "file_type = \"json\"\n",
    "\n",
    "infer_schema = \"false\"\n",
    "first_row_is_header = \"false\"\n",
    "delimiter = \",\"\n",
    "\n",
    "df_transactions = spark.read.format(file_type) \\\n",
    "  .option(\"inferSchema\", infer_schema) \\\n",
    "  .option(\"header\", first_row_is_header) \\\n",
    "  .option(\"sep\", delimiter) \\\n",
    "  .load(file_location)\n",
    "\n",
    "df_transactions = df_transactions \\\n",
    "    .withColumn(\"amount\", col(\"value.amount\")) \\\n",
    "    .withColumn(\"offer_id_\", col(\"value.`offer id`\")) \\\n",
    "    .withColumn(\"offer_id\", col(\"value.offer_id\")) \\\n",
    "    .withColumn(\"reward\", col(\"value.reward\")) \\\n",
    "    .drop(\"value\")\n",
    "\n",
    "df_transactions.show(5)"
   ],
   "outputs": [
    {
     "name": "stderr",
     "output_type": "stream",
     "text": [
      "                                                                                \r"
     ]
    },
    {
     "name": "stdout",
     "output_type": "stream",
     "text": [
      "+--------------------+--------------+---------------------+------+--------------------+--------+------+\n",
      "|          account_id|         event|time_since_test_start|amount|           offer_id_|offer_id|reward|\n",
      "+--------------------+--------------+---------------------+------+--------------------+--------+------+\n",
      "|78afa995795e4d85b...|offer received|                  0.0|  NULL|9b98b8c7a33c4b65b...|    NULL|  NULL|\n",
      "|a03223e636434f42a...|offer received|                  0.0|  NULL|0b1e1539f2cc45b7b...|    NULL|  NULL|\n",
      "|e2127556f4f64592b...|offer received|                  0.0|  NULL|2906b810c7d441179...|    NULL|  NULL|\n",
      "|8ec6ce2a7e7949b1b...|offer received|                  0.0|  NULL|fafdcd668e3743c1b...|    NULL|  NULL|\n",
      "|68617ca6246f4fbc8...|offer received|                  0.0|  NULL|4d5c57ea9a6940dd8...|    NULL|  NULL|\n",
      "+--------------------+--------------+---------------------+------+--------------------+--------+------+\n",
      "only showing top 5 rows\n",
      "\n"
     ]
    },
    {
     "name": "stderr",
     "output_type": "stream",
     "text": [
      "                                                                                \r"
     ]
    }
   ],
   "execution_count": 55
  },
  {
   "metadata": {
    "ExecuteTime": {
     "end_time": "2024-11-27T23:30:37.429862Z",
     "start_time": "2024-11-27T23:30:36.677304Z"
    }
   },
   "cell_type": "code",
   "source": "df_transactions.count()",
   "outputs": [
    {
     "name": "stderr",
     "output_type": "stream",
     "text": [
      "                                                                                \r"
     ]
    },
    {
     "data": {
      "text/plain": [
       "306534"
      ]
     },
     "execution_count": 56,
     "metadata": {},
     "output_type": "execute_result"
    }
   ],
   "execution_count": 56
  },
  {
   "metadata": {
    "ExecuteTime": {
     "end_time": "2024-11-27T23:29:04.882700Z",
     "start_time": "2024-11-27T23:29:04.449561Z"
    }
   },
   "cell_type": "code",
   "source": "df_transactions.select(\"event\").distinct().show()\n",
   "outputs": [
    {
     "name": "stdout",
     "output_type": "stream",
     "text": [
      "+---------------+\n",
      "|          event|\n",
      "+---------------+\n",
      "|    transaction|\n",
      "| offer received|\n",
      "|offer completed|\n",
      "|   offer viewed|\n",
      "+---------------+\n",
      "\n"
     ]
    }
   ],
   "execution_count": 49
  },
  {
   "metadata": {
    "ExecuteTime": {
     "end_time": "2024-11-27T23:32:49.850616Z",
     "start_time": "2024-11-27T23:32:48.705084Z"
    }
   },
   "cell_type": "code",
   "source": [
    "from pyspark.sql.functions import sum, when, col\n",
    "\n",
    "# Group by the 'event' column and count the null values in the 'amount' column\n",
    "null_amount_counts = df_transactions.groupBy(\"event\").agg(\n",
    "    sum(when(col(\"amount\").isNull(), 1).otherwise(0)).alias(\"null_amount_count\")\n",
    ")\n",
    "\n",
    "# Show the resulting DataFrame\n",
    "null_amount_counts.show()"
   ],
   "outputs": [
    {
     "name": "stderr",
     "output_type": "stream",
     "text": [
      "[Stage 108:=================================================>       (7 + 1) / 8]\r"
     ]
    },
    {
     "name": "stdout",
     "output_type": "stream",
     "text": [
      "+---------------+-----------------+\n",
      "|          event|null_amount_count|\n",
      "+---------------+-----------------+\n",
      "|    transaction|                0|\n",
      "| offer received|            76277|\n",
      "|offer completed|            33579|\n",
      "|   offer viewed|            57725|\n",
      "+---------------+-----------------+\n",
      "\n"
     ]
    },
    {
     "name": "stderr",
     "output_type": "stream",
     "text": [
      "                                                                                \r"
     ]
    }
   ],
   "execution_count": 60
  },
  {
   "metadata": {
    "ExecuteTime": {
     "end_time": "2024-11-27T23:36:39.571380Z",
     "start_time": "2024-11-27T23:36:39.475159Z"
    }
   },
   "cell_type": "code",
   "source": [
    "window_spec = Window.partitionBy(\"account_id\").orderBy(\"time_since_test_start\").rowsBetween(Window.unboundedPreceding, Window.currentRow)\n",
    "\n",
    "df_transactions = df_transactions.withColumn(\n",
    "    \"last_transaction_amount\",\n",
    "    last(when(col(\"event\") == \"transaction\", col(\"amount\")), ignorenulls=True).over(window_spec)\n",
    ")\n",
    "\n",
    "df_transactions = df_transactions.withColumn(\n",
    "    \"amount\",\n",
    "    when(col(\"event\") == \"transaction\", col(\"amount\"))\n",
    "    .otherwise(col(\"last_transaction_amount\"))\n",
    ")"
   ],
   "outputs": [],
   "execution_count": 62
  },
  {
   "metadata": {
    "ExecuteTime": {
     "end_time": "2024-11-27T23:37:16.165997Z",
     "start_time": "2024-11-27T23:37:14.215911Z"
    }
   },
   "cell_type": "code",
   "source": [
    "null_amount_counts = df_transactions.groupBy(\"event\").agg(\n",
    "    sum(when(col(\"amount\").isNull(), 1).otherwise(0)).alias(\"null_amount_count\")\n",
    ")\n",
    "\n",
    "# Show the resulting DataFrame\n",
    "null_amount_counts.show()"
   ],
   "outputs": [
    {
     "name": "stderr",
     "output_type": "stream",
     "text": [
      "[Stage 111:=================================================>       (7 + 1) / 8]\r"
     ]
    },
    {
     "name": "stdout",
     "output_type": "stream",
     "text": [
      "+---------------+-----------------+\n",
      "|          event|null_amount_count|\n",
      "+---------------+-----------------+\n",
      "|    transaction|                0|\n",
      "| offer received|            20952|\n",
      "|offer completed|                0|\n",
      "|   offer viewed|            14479|\n",
      "+---------------+-----------------+\n",
      "\n"
     ]
    },
    {
     "name": "stderr",
     "output_type": "stream",
     "text": [
      "                                                                                \r"
     ]
    }
   ],
   "execution_count": 63
  },
  {
   "metadata": {
    "ExecuteTime": {
     "end_time": "2024-11-27T23:39:58.530345Z",
     "start_time": "2024-11-27T23:39:58.474668Z"
    }
   },
   "cell_type": "code",
   "source": "df_transactions = df_transactions.filter(~(col(\"event\").isin(\"offer_received\", \"offer_completed\")))",
   "outputs": [],
   "execution_count": 64
  },
  {
   "metadata": {
    "ExecuteTime": {
     "end_time": "2024-11-27T23:40:04.898528Z",
     "start_time": "2024-11-27T23:40:04.874422Z"
    }
   },
   "cell_type": "code",
   "source": [
    "df_transactions = df_transactions \\\n",
    "    .withColumn(\"offer_id\", when(col(\"offer_id\").isNull(), col(\"offer_id_\")).otherwise(col(\"offer_id\"))) \\\n",
    "    .drop(\"offer_id_\")"
   ],
   "outputs": [],
   "execution_count": 65
  },
  {
   "metadata": {
    "ExecuteTime": {
     "end_time": "2024-11-27T23:42:12.931808Z",
     "start_time": "2024-11-27T23:42:11.502294Z"
    }
   },
   "cell_type": "code",
   "source": [
    "df_aggregated = df_transactions.groupBy(\"account_id\").agg(\n",
    "    last(\"amount\").alias(\"amount\"),\n",
    "    last(\"offer_id\").alias(\"offer_id\"),\n",
    "    last(\"event\").alias(\"last_event\")\n",
    ").withColumn(\n",
    "    \"target\",\n",
    "    when(col(\"last_event\") == \"offer completed\", 1).otherwise(0)\n",
    ").select(\n",
    "    \"account_id\", \"amount\", \"offer_id\", \"target\"\n",
    ")\n",
    "\n",
    "df_aggregated.show(5)"
   ],
   "outputs": [
    {
     "name": "stderr",
     "output_type": "stream",
     "text": [
      "[Stage 123:=================================================>       (7 + 1) / 8]\r"
     ]
    },
    {
     "name": "stdout",
     "output_type": "stream",
     "text": [
      "+--------------------+------+--------------------+------+\n",
      "|          account_id|amount|            offer_id|target|\n",
      "+--------------------+------+--------------------+------+\n",
      "|0020ccbbb6d84e358...|  7.47|                NULL|     0|\n",
      "|004b041fbfe448599...| 19.93|fafdcd668e3743c1b...|     1|\n",
      "|0056df74b63b42988...| 29.89|                NULL|     0|\n",
      "|008d7088107b46889...|  2.46|5a8bc65990b245e5a...|     0|\n",
      "|0092a132ead946ceb...|  1.32|2906b810c7d441179...|     0|\n",
      "+--------------------+------+--------------------+------+\n",
      "only showing top 5 rows\n",
      "\n"
     ]
    },
    {
     "name": "stderr",
     "output_type": "stream",
     "text": [
      "                                                                                \r"
     ]
    }
   ],
   "execution_count": 68
  },
  {
   "metadata": {
    "ExecuteTime": {
     "end_time": "2024-11-27T23:43:33.700822Z",
     "start_time": "2024-11-27T23:43:31.665881Z"
    }
   },
   "cell_type": "code",
   "source": [
    "df_aggregated = df_transactions.groupBy(\"account_id\").agg(\n",
    "    last(\"amount\").alias(\"amount\"),\n",
    "    last(\"event\").alias(\"last_event\"),\n",
    "    last(\"offer_id\").alias(\"offer_id\"),\n",
    ")\n",
    "\n",
    "# Create the 'target' column based on the last event\n",
    "df_aggregated = df_aggregated.withColumn(\n",
    "    \"target\",\n",
    "    when(col(\"last_event\") == \"offer completed\", 1).otherwise(0)\n",
    ")\n",
    "\n",
    "# Show the resulting DataFrame\n",
    "df_aggregated.show(5)\n"
   ],
   "outputs": [
    {
     "name": "stderr",
     "output_type": "stream",
     "text": [
      "[Stage 126:=================================================>       (7 + 1) / 8]\r"
     ]
    },
    {
     "name": "stdout",
     "output_type": "stream",
     "text": [
      "+--------------------+------+---------------+--------------------+------+\n",
      "|          account_id|amount|     last_event|            offer_id|target|\n",
      "+--------------------+------+---------------+--------------------+------+\n",
      "|0020ccbbb6d84e358...|  7.47|    transaction|                NULL|     0|\n",
      "|004b041fbfe448599...| 19.93|offer completed|fafdcd668e3743c1b...|     1|\n",
      "|0056df74b63b42988...| 29.89|    transaction|                NULL|     0|\n",
      "|008d7088107b46889...|  2.46|   offer viewed|5a8bc65990b245e5a...|     0|\n",
      "|0092a132ead946ceb...|  1.32|   offer viewed|2906b810c7d441179...|     0|\n",
      "+--------------------+------+---------------+--------------------+------+\n",
      "only showing top 5 rows\n",
      "\n"
     ]
    },
    {
     "name": "stderr",
     "output_type": "stream",
     "text": [
      "                                                                                \r"
     ]
    }
   ],
   "execution_count": 70
  },
  {
   "metadata": {
    "ExecuteTime": {
     "end_time": "2024-11-27T23:44:12.831014Z",
     "start_time": "2024-11-27T23:44:12.800310Z"
    }
   },
   "cell_type": "code",
   "source": "df_transactions = df_aggregated.filter(col(\"offer_id\").isNotNull())",
   "outputs": [],
   "execution_count": 71
  },
  {
   "metadata": {
    "ExecuteTime": {
     "end_time": "2024-11-27T23:44:17.073029Z",
     "start_time": "2024-11-27T23:44:15.927728Z"
    }
   },
   "cell_type": "code",
   "source": "df_transactions.show(10)",
   "outputs": [
    {
     "name": "stderr",
     "output_type": "stream",
     "text": [
      "[Stage 129:=================================================>       (7 + 1) / 8]\r"
     ]
    },
    {
     "name": "stdout",
     "output_type": "stream",
     "text": [
      "+--------------------+------+---------------+--------------------+------+\n",
      "|          account_id|amount|     last_event|            offer_id|target|\n",
      "+--------------------+------+---------------+--------------------+------+\n",
      "|004b041fbfe448599...| 19.93|offer completed|fafdcd668e3743c1b...|     1|\n",
      "|008d7088107b46889...|  2.46|   offer viewed|5a8bc65990b245e5a...|     0|\n",
      "|0092a132ead946ceb...|  1.32|   offer viewed|2906b810c7d441179...|     0|\n",
      "|00aee28bbb3848dd8...|  2.46|   offer viewed|ae264e3637204a6fb...|     0|\n",
      "|00bbce6533f44ddea...|  5.39|   offer viewed|fafdcd668e3743c1b...|     0|\n",
      "|00bc983061d3471e8...|  21.4| offer received|2906b810c7d441179...|     0|\n",
      "|016871ea865d43389...| 19.04| offer received|fafdcd668e3743c1b...|     0|\n",
      "|0206e1388c34454ca...| 20.86|   offer viewed|5a8bc65990b245e5a...|     0|\n",
      "|029e063479234fb1b...| 20.18|   offer viewed|4d5c57ea9a6940dd8...|     0|\n",
      "|02a3aa431c1047be8...| 15.97|offer completed|ae264e3637204a6fb...|     1|\n",
      "+--------------------+------+---------------+--------------------+------+\n",
      "only showing top 10 rows\n",
      "\n"
     ]
    },
    {
     "name": "stderr",
     "output_type": "stream",
     "text": [
      "                                                                                \r"
     ]
    }
   ],
   "execution_count": 72
  },
  {
   "metadata": {},
   "cell_type": "markdown",
   "source": "### Tratamento Costumers"
  },
  {
   "metadata": {
    "ExecuteTime": {
     "end_time": "2024-11-27T23:45:27.358365Z",
     "start_time": "2024-11-27T23:45:27.125190Z"
    }
   },
   "cell_type": "code",
   "source": [
    "file_location = \"/Users/alyssonamaral/Documents/ifood-case/case_data/profile.json\"\n",
    "file_type = \"json\"\n",
    "\n",
    "infer_schema = \"false\"\n",
    "first_row_is_header = \"false\"\n",
    "delimiter = \",\"\n",
    "\n",
    "df_customers = spark.read.format(file_type) \\\n",
    "  .option(\"inferSchema\", infer_schema) \\\n",
    "  .option(\"header\", first_row_is_header) \\\n",
    "  .option(\"sep\", delimiter) \\\n",
    "  .load(file_location)\n",
    "\n",
    "df_customers.show(5)"
   ],
   "outputs": [
    {
     "name": "stdout",
     "output_type": "stream",
     "text": [
      "+---+-----------------+------+--------------------+-------------+\n",
      "|age|credit_card_limit|gender|                  id|registered_on|\n",
      "+---+-----------------+------+--------------------+-------------+\n",
      "|118|             NULL|  NULL|68be06ca386d4c319...|     20170212|\n",
      "| 55|         112000.0|     F|0610b486422d4921a...|     20170715|\n",
      "|118|             NULL|  NULL|38fe809add3b4fcf9...|     20180712|\n",
      "| 75|         100000.0|     F|78afa995795e4d85b...|     20170509|\n",
      "|118|             NULL|  NULL|a03223e636434f42a...|     20170804|\n",
      "+---+-----------------+------+--------------------+-------------+\n",
      "only showing top 5 rows\n",
      "\n"
     ]
    }
   ],
   "execution_count": 74
  },
  {
   "metadata": {
    "ExecuteTime": {
     "end_time": "2024-11-27T23:45:31.413152Z",
     "start_time": "2024-11-27T23:45:31.095756Z"
    }
   },
   "cell_type": "code",
   "source": [
    "df_age_118 = df_customers.filter(col(\"age\") == 118)\n",
    "\n",
    "gender_null_count = df_age_118.filter(isnull(col(\"gender\"))).count()\n",
    "gender_not_null_count = df_age_118.filter(col(\"gender\").isNotNull()).count()\n",
    "\n",
    "credit_card_null_count = df_age_118.filter(isnull(col(\"credit_card_limit\"))).count()\n",
    "credit_card_not_null_count = df_age_118.filter(col(\"credit_card_limit\").isNotNull()).count()\n",
    "\n",
    "print(f\"Quantidade de registros com gender nulo: {gender_null_count}\")\n",
    "print(f\"Quantidade de registros com gender não nulo: {gender_not_null_count}\")\n",
    "print(f\"Quantidade de registros com credit_card_limit nulo: {credit_card_null_count}\")\n",
    "print(f\"Quantidade de registros com credit_card_limit não nulo: {credit_card_not_null_count}\")"
   ],
   "outputs": [
    {
     "name": "stdout",
     "output_type": "stream",
     "text": [
      "Quantidade de registros com gender nulo: 2175\n",
      "Quantidade de registros com gender não nulo: 0\n",
      "Quantidade de registros com credit_card_limit nulo: 2175\n",
      "Quantidade de registros com credit_card_limit não nulo: 0\n"
     ]
    }
   ],
   "execution_count": 75
  },
  {
   "metadata": {},
   "cell_type": "code",
   "outputs": [],
   "execution_count": null,
   "source": ""
  },
  {
   "metadata": {},
   "cell_type": "markdown",
   "source": "### Tratamento do offers"
  },
  {
   "metadata": {
    "ExecuteTime": {
     "end_time": "2024-11-27T23:45:42.924056Z",
     "start_time": "2024-11-27T23:45:42.775959Z"
    }
   },
   "cell_type": "code",
   "source": [
    "file_location = \"/Users/alyssonamaral/Documents/ifood-case/case_data/offers.json\"\n",
    "file_type = \"json\"\n",
    "\n",
    "infer_schema = \"false\"\n",
    "first_row_is_header = \"false\"\n",
    "delimiter = \",\"\n",
    "\n",
    "df_offers = spark.read.format(file_type) \\\n",
    "  .option(\"inferSchema\", infer_schema) \\\n",
    "  .option(\"header\", first_row_is_header) \\\n",
    "  .option(\"sep\", delimiter) \\\n",
    "  .load(file_location)\n",
    "\n",
    "df_offers.show(5)"
   ],
   "outputs": [
    {
     "name": "stdout",
     "output_type": "stream",
     "text": [
      "+--------------------+--------------+--------+--------------------+---------+-------------+\n",
      "|            channels|discount_value|duration|                  id|min_value|   offer_type|\n",
      "+--------------------+--------------+--------+--------------------+---------+-------------+\n",
      "|[email, mobile, s...|            10|     7.0|ae264e3637204a6fb...|       10|         bogo|\n",
      "|[web, email, mobi...|            10|     5.0|4d5c57ea9a6940dd8...|       10|         bogo|\n",
      "|[web, email, mobile]|             0|     4.0|3f207df678b143eea...|        0|informational|\n",
      "|[web, email, mobile]|             5|     7.0|9b98b8c7a33c4b65b...|        5|         bogo|\n",
      "|        [web, email]|             5|    10.0|0b1e1539f2cc45b7b...|       20|     discount|\n",
      "+--------------------+--------------+--------+--------------------+---------+-------------+\n",
      "only showing top 5 rows\n",
      "\n"
     ]
    }
   ],
   "execution_count": 76
  },
  {
   "metadata": {
    "ExecuteTime": {
     "end_time": "2024-11-27T23:45:46.124324Z",
     "start_time": "2024-11-27T23:45:45.853802Z"
    }
   },
   "cell_type": "code",
   "source": [
    "df_offers = df_offers.withColumn(\"channel_web\", when(array_contains(col(\"channels\"), \"web\"), 1).otherwise(0)) \\\n",
    "                     .withColumn(\"channel_email\", when(array_contains(col(\"channels\"), \"email\"), 1).otherwise(0)) \\\n",
    "                     .withColumn(\"channel_mobile\", when(array_contains(col(\"channels\"), \"mobile\"), 1).otherwise(0)) \\\n",
    "                     .withColumn(\"channel_social\", when(array_contains(col(\"channels\"), \"social\"), 1).otherwise(0))\n",
    "\n",
    "df_offers = df_offers.drop(\"channels\")\n",
    "\n",
    "df_offers = df_offers.withColumn(\n",
    "    \"offer_bogo\",\n",
    "    when(col(\"offer_type\") == \"bogo\", 1).otherwise(0)\n",
    ").withColumn(\n",
    "    \"offer_informational\",\n",
    "    when(col(\"offer_type\") == \"informational\", 1).otherwise(0)\n",
    ").withColumn(\n",
    "    \"offer_discount\",\n",
    "    when(col(\"offer_type\") == \"discount\", 1).otherwise(0)\n",
    ")\n",
    "\n",
    "df_offers = df_offers.drop(\"offer_type\")\n",
    "\n",
    "df_offers.show()"
   ],
   "outputs": [
    {
     "name": "stdout",
     "output_type": "stream",
     "text": [
      "+--------------+--------+--------------------+---------+-----------+-------------+--------------+--------------+----------+-------------------+--------------+\n",
      "|discount_value|duration|                  id|min_value|channel_web|channel_email|channel_mobile|channel_social|offer_bogo|offer_informational|offer_discount|\n",
      "+--------------+--------+--------------------+---------+-----------+-------------+--------------+--------------+----------+-------------------+--------------+\n",
      "|            10|     7.0|ae264e3637204a6fb...|       10|          0|            1|             1|             1|         1|                  0|             0|\n",
      "|            10|     5.0|4d5c57ea9a6940dd8...|       10|          1|            1|             1|             1|         1|                  0|             0|\n",
      "|             0|     4.0|3f207df678b143eea...|        0|          1|            1|             1|             0|         0|                  1|             0|\n",
      "|             5|     7.0|9b98b8c7a33c4b65b...|        5|          1|            1|             1|             0|         1|                  0|             0|\n",
      "|             5|    10.0|0b1e1539f2cc45b7b...|       20|          1|            1|             0|             0|         0|                  0|             1|\n",
      "|             3|     7.0|2298d6c36e964ae4a...|        7|          1|            1|             1|             1|         0|                  0|             1|\n",
      "|             2|    10.0|fafdcd668e3743c1b...|       10|          1|            1|             1|             1|         0|                  0|             1|\n",
      "|             0|     3.0|5a8bc65990b245e5a...|        0|          0|            1|             1|             1|         0|                  1|             0|\n",
      "|             5|     5.0|f19421c1d4aa40978...|        5|          1|            1|             1|             1|         1|                  0|             0|\n",
      "|             2|     7.0|2906b810c7d441179...|       10|          1|            1|             1|             0|         0|                  0|             1|\n",
      "+--------------+--------+--------------------+---------+-----------+-------------+--------------+--------------+----------+-------------------+--------------+\n",
      "\n"
     ]
    }
   ],
   "execution_count": 77
  },
  {
   "metadata": {},
   "cell_type": "code",
   "outputs": [],
   "execution_count": null,
   "source": ""
  },
  {
   "metadata": {},
   "cell_type": "markdown",
   "source": "### Criação do df_modelo"
  },
  {
   "metadata": {},
   "cell_type": "markdown",
   "source": "#### Junção e tratamento"
  },
  {
   "metadata": {
    "ExecuteTime": {
     "end_time": "2024-11-27T23:45:53.069189Z",
     "start_time": "2024-11-27T23:45:53.054154Z"
    }
   },
   "cell_type": "code",
   "source": [
    "df_transactions.printSchema()\n",
    "\n",
    "df_customers.printSchema()\n",
    "\n",
    "df_offers.printSchema()"
   ],
   "outputs": [
    {
     "name": "stdout",
     "output_type": "stream",
     "text": [
      "root\n",
      " |-- account_id: string (nullable = true)\n",
      " |-- amount: double (nullable = true)\n",
      " |-- last_event: string (nullable = true)\n",
      " |-- offer_id: string (nullable = true)\n",
      " |-- target: integer (nullable = false)\n",
      "\n",
      "root\n",
      " |-- age: long (nullable = true)\n",
      " |-- credit_card_limit: double (nullable = true)\n",
      " |-- gender: string (nullable = true)\n",
      " |-- id: string (nullable = true)\n",
      " |-- registered_on: string (nullable = true)\n",
      "\n",
      "root\n",
      " |-- discount_value: long (nullable = true)\n",
      " |-- duration: double (nullable = true)\n",
      " |-- id: string (nullable = true)\n",
      " |-- min_value: long (nullable = true)\n",
      " |-- channel_web: integer (nullable = false)\n",
      " |-- channel_email: integer (nullable = false)\n",
      " |-- channel_mobile: integer (nullable = false)\n",
      " |-- channel_social: integer (nullable = false)\n",
      " |-- offer_bogo: integer (nullable = false)\n",
      " |-- offer_informational: integer (nullable = false)\n",
      " |-- offer_discount: integer (nullable = false)\n",
      "\n"
     ]
    }
   ],
   "execution_count": 78
  },
  {
   "metadata": {
    "ExecuteTime": {
     "end_time": "2024-11-27T23:46:49.336566Z",
     "start_time": "2024-11-27T23:46:47.759484Z"
    }
   },
   "cell_type": "code",
   "source": [
    "df_modelo = df_transactions.join(\n",
    "    df_customers,\n",
    "    df_transactions[\"account_id\"] == df_customers[\"id\"],\n",
    "    \"left\"\n",
    ").drop(df_customers[\"id\"])\n",
    "\n",
    "df_modelo = df_modelo.join(\n",
    "    df_offers,\n",
    "    df_modelo[\"offer_id\"] == df_offers[\"id\"],\n",
    "    \"left\"\n",
    ").drop(df_offers[\"id\"])\n",
    "\n",
    "df_modelo.show()"
   ],
   "outputs": [
    {
     "name": "stderr",
     "output_type": "stream",
     "text": [
      "[Stage 178:=================================================>       (7 + 1) / 8]\r"
     ]
    },
    {
     "name": "stdout",
     "output_type": "stream",
     "text": [
      "+--------------------+------+---------------+--------------------+------+---+-----------------+------+-------------+--------------+--------+---------+-----------+-------------+--------------+--------------+----------+-------------------+--------------+\n",
      "|          account_id|amount|     last_event|            offer_id|target|age|credit_card_limit|gender|registered_on|discount_value|duration|min_value|channel_web|channel_email|channel_mobile|channel_social|offer_bogo|offer_informational|offer_discount|\n",
      "+--------------------+------+---------------+--------------------+------+---+-----------------+------+-------------+--------------+--------+---------+-----------+-------------+--------------+--------------+----------+-------------------+--------------+\n",
      "|004b041fbfe448599...| 19.93|offer completed|fafdcd668e3743c1b...|     1| 55|          74000.0|     F|     20180508|             2|    10.0|       10|          1|            1|             1|             1|         0|                  0|             1|\n",
      "|008d7088107b46889...|  2.46|   offer viewed|5a8bc65990b245e5a...|     0| 24|          42000.0|     M|     20170910|             0|     3.0|        0|          0|            1|             1|             1|         0|                  1|             0|\n",
      "|0092a132ead946ceb...|  1.32|   offer viewed|2906b810c7d441179...|     0|118|             NULL|  NULL|     20180502|             2|     7.0|       10|          1|            1|             1|             0|         0|                  0|             1|\n",
      "|00aee28bbb3848dd8...|  2.46|   offer viewed|ae264e3637204a6fb...|     0| 21|          59000.0|     M|     20180106|            10|     7.0|       10|          0|            1|             1|             1|         1|                  0|             0|\n",
      "|00bbce6533f44ddea...|  5.39|   offer viewed|fafdcd668e3743c1b...|     0| 94|          50000.0|     M|     20141128|             2|    10.0|       10|          1|            1|             1|             1|         0|                  0|             1|\n",
      "|00bc983061d3471e8...|  21.4| offer received|2906b810c7d441179...|     0| 59|          77000.0|     M|     20171016|             2|     7.0|       10|          1|            1|             1|             0|         0|                  0|             1|\n",
      "|016871ea865d43389...| 19.04| offer received|fafdcd668e3743c1b...|     0| 57|          79000.0|     F|     20180601|             2|    10.0|       10|          1|            1|             1|             1|         0|                  0|             1|\n",
      "|0206e1388c34454ca...| 20.86|   offer viewed|5a8bc65990b245e5a...|     0| 39|          71000.0|     M|     20170604|             0|     3.0|        0|          0|            1|             1|             1|         0|                  1|             0|\n",
      "|029e063479234fb1b...| 20.18|   offer viewed|4d5c57ea9a6940dd8...|     0| 71|          93000.0|     M|     20171125|            10|     5.0|       10|          1|            1|             1|             1|         1|                  0|             0|\n",
      "|02a3aa431c1047be8...| 15.97|offer completed|ae264e3637204a6fb...|     1| 54|          70000.0|     M|     20180606|            10|     7.0|       10|          0|            1|             1|             1|         1|                  0|             0|\n",
      "|033fed8bb1504885b...|  37.9|offer completed|f19421c1d4aa40978...|     1| 66|         108000.0|     M|     20180711|             5|     5.0|        5|          1|            1|             1|             1|         1|                  0|             0|\n",
      "|034dcdec0a0547a19...| 11.37| offer received|9b98b8c7a33c4b65b...|     0| 57|          76000.0|     F|     20171001|             5|     7.0|        5|          1|            1|             1|             0|         1|                  0|             0|\n",
      "|03e866224ec641c58...|  4.23| offer received|2906b810c7d441179...|     0| 80|          47000.0|     F|     20180211|             2|     7.0|       10|          1|            1|             1|             0|         0|                  0|             1|\n",
      "|043702ae29bc426e9...| 31.11|   offer viewed|2906b810c7d441179...|     0| 39|          94000.0|     F|     20171004|             2|     7.0|       10|          1|            1|             1|             0|         0|                  0|             1|\n",
      "|044a7e5bbe7f4c66a...|  NULL| offer received|0b1e1539f2cc45b7b...|     0| 65|          52000.0|     M|     20180422|             5|    10.0|       20|          1|            1|             0|             0|         0|                  0|             1|\n",
      "|051066a2c1284e23a...|  9.66|offer completed|f19421c1d4aa40978...|     1| 22|          31000.0|     M|     20160226|             5|     5.0|        5|          1|            1|             1|             1|         1|                  0|             0|\n",
      "|057f6741e0e0438e8...| 17.32|offer completed|9b98b8c7a33c4b65b...|     1| 54|          74000.0|     F|     20160930|             5|     7.0|        5|          1|            1|             1|             0|         1|                  0|             0|\n",
      "|0580b842b328497ea...| 27.36|offer completed|f19421c1d4aa40978...|     1| 65|         120000.0|     F|     20171029|             5|     5.0|        5|          1|            1|             1|             1|         1|                  0|             0|\n",
      "|05a4da5c46034e42a...| 26.58|offer completed|2906b810c7d441179...|     1| 50|         102000.0|     F|     20170902|             2|     7.0|       10|          1|            1|             1|             0|         0|                  0|             1|\n",
      "|05ea8d8a95eb4b209...| 36.23| offer received|ae264e3637204a6fb...|     0| 62|         111000.0|     F|     20151103|            10|     7.0|       10|          0|            1|             1|             1|         1|                  0|             0|\n",
      "+--------------------+------+---------------+--------------------+------+---+-----------------+------+-------------+--------------+--------+---------+-----------+-------------+--------------+--------------+----------+-------------------+--------------+\n",
      "only showing top 20 rows\n",
      "\n"
     ]
    },
    {
     "name": "stderr",
     "output_type": "stream",
     "text": [
      "                                                                                \r"
     ]
    }
   ],
   "execution_count": 82
  },
  {
   "metadata": {
    "ExecuteTime": {
     "end_time": "2024-11-27T23:48:47.854994Z",
     "start_time": "2024-11-27T23:48:47.786885Z"
    }
   },
   "cell_type": "code",
   "source": "df_modelo = df_modelo.filter(col(\"amount\").isNotNull())",
   "outputs": [],
   "execution_count": 84
  },
  {
   "metadata": {
    "ExecuteTime": {
     "end_time": "2024-11-27T23:49:29.567881Z",
     "start_time": "2024-11-27T23:49:29.497893Z"
    }
   },
   "cell_type": "code",
   "source": [
    "df_modelo = df_modelo.withColumn(\n",
    "    \"gender_numeric\",\n",
    "    when(col(\"gender\") == \"O\", 0)\n",
    "    .when(col(\"gender\") == \"F\", 1)\n",
    "    .when(col(\"gender\") == \"M\", 2)\n",
    "    .otherwise(3)\n",
    ")"
   ],
   "outputs": [],
   "execution_count": 86
  },
  {
   "metadata": {
    "ExecuteTime": {
     "end_time": "2024-11-27T23:49:40.752166Z",
     "start_time": "2024-11-27T23:49:40.707398Z"
    }
   },
   "cell_type": "code",
   "source": "df_modelo = df_modelo.drop(df_modelo[\"gender\"])",
   "outputs": [],
   "execution_count": 87
  },
  {
   "metadata": {
    "ExecuteTime": {
     "end_time": "2024-11-27T23:52:51.776079Z",
     "start_time": "2024-11-27T23:52:51.680486Z"
    }
   },
   "cell_type": "code",
   "source": [
    "# Calcular a média de credit_card_limit para os registros com age != 118 e com o mesmo event\n",
    "df_avg_credit_card = df_modelo.filter(col(\"age\") != 118) \\\n",
    "    .groupBy(\"last_event\") \\\n",
    "    .agg({\"credit_card_limit\": \"avg\"}) \\\n",
    "    .withColumnRenamed(\"avg(credit_card_limit)\", \"avg_credit_card_limit\")\n",
    "\n",
    "# Juntar o DataFrame com a média de credit_card_limit e preencher os valores nulos\n",
    "df_modelo_filled = df_modelo.join(df_avg_credit_card, \"last_event\", \"left\") \\\n",
    "    .withColumn(\n",
    "        \"credit_card_limit\",\n",
    "        when(col(\"age\") == 118, col(\"avg_credit_card_limit\")).otherwise(col(\"credit_card_limit\"))\n",
    "    ).drop(\"avg_credit_card_limit\")\n",
    "\n",
    "df_modelo = df_modelo_filled"
   ],
   "outputs": [],
   "execution_count": 93
  },
  {
   "metadata": {
    "ExecuteTime": {
     "end_time": "2024-11-27T23:53:10.123341Z",
     "start_time": "2024-11-27T23:53:07.952360Z"
    }
   },
   "cell_type": "code",
   "source": "df_modelo.show(5)",
   "outputs": [
    {
     "name": "stderr",
     "output_type": "stream",
     "text": [
      "[Stage 202:==============>  (7 + 1) / 8][Stage 207:==============>  (7 + 1) / 8]\r"
     ]
    },
    {
     "name": "stdout",
     "output_type": "stream",
     "text": [
      "+---------------+--------------------+------+--------------------+------+---+-----------------+-------------+--------------+--------+---------+-----------+-------------+--------------+--------------+----------+-------------------+--------------+--------------+\n",
      "|     last_event|          account_id|amount|            offer_id|target|age|credit_card_limit|registered_on|discount_value|duration|min_value|channel_web|channel_email|channel_mobile|channel_social|offer_bogo|offer_informational|offer_discount|gender_numeric|\n",
      "+---------------+--------------------+------+--------------------+------+---+-----------------+-------------+--------------+--------+---------+-----------+-------------+--------------+--------------+----------+-------------------+--------------+--------------+\n",
      "| offer received|00bc983061d3471e8...|  21.4|2906b810c7d441179...|     0| 59|          77000.0|     20171016|             2|     7.0|       10|          1|            1|             1|             0|         0|                  0|             1|             2|\n",
      "|offer completed|004b041fbfe448599...| 19.93|fafdcd668e3743c1b...|     1| 55|          74000.0|     20180508|             2|    10.0|       10|          1|            1|             1|             1|         0|                  0|             1|             1|\n",
      "|   offer viewed|008d7088107b46889...|  2.46|5a8bc65990b245e5a...|     0| 24|          42000.0|     20170910|             0|     3.0|        0|          0|            1|             1|             1|         0|                  1|             0|             2|\n",
      "|   offer viewed|0092a132ead946ceb...|  1.32|2906b810c7d441179...|     0|118| 71344.8275862069|     20180502|             2|     7.0|       10|          1|            1|             1|             0|         0|                  0|             1|             3|\n",
      "|   offer viewed|00aee28bbb3848dd8...|  2.46|ae264e3637204a6fb...|     0| 21|          59000.0|     20180106|            10|     7.0|       10|          0|            1|             1|             1|         1|                  0|             0|             2|\n",
      "+---------------+--------------------+------+--------------------+------+---+-----------------+-------------+--------------+--------+---------+-----------+-------------+--------------+--------------+----------+-------------------+--------------+--------------+\n",
      "only showing top 5 rows\n",
      "\n"
     ]
    },
    {
     "name": "stderr",
     "output_type": "stream",
     "text": [
      "                                                                                \r"
     ]
    }
   ],
   "execution_count": 94
  },
  {
   "metadata": {
    "ExecuteTime": {
     "end_time": "2024-11-27T23:54:48.685886Z",
     "start_time": "2024-11-27T23:54:45.861985Z"
    }
   },
   "cell_type": "code",
   "source": [
    "output_path = \"/Users/alyssonamaral/Documents/ifood-case/case_data\"\n",
    "df_modelo.write.csv(output_path, header=True, mode=\"overwrite\")"
   ],
   "outputs": [
    {
     "name": "stderr",
     "output_type": "stream",
     "text": [
      "                                                                                \r"
     ]
    }
   ],
   "execution_count": 95
  }
 ],
 "metadata": {
  "kernelspec": {
   "display_name": "venv",
   "language": "python",
   "name": "python3"
  },
  "language_info": {
   "codemirror_mode": {
    "name": "ipython",
    "version": 3
   },
   "file_extension": ".py",
   "mimetype": "text/x-python",
   "name": "python",
   "nbconvert_exporter": "python",
   "pygments_lexer": "ipython3",
   "version": "3.12.1"
  }
 },
 "nbformat": 4,
 "nbformat_minor": 2
}
